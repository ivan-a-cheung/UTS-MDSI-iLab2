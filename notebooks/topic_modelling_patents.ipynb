{
 "cells": [
  {
   "cell_type": "markdown",
   "metadata": {},
   "source": [
    "### Initialise"
   ]
  },
  {
   "cell_type": "code",
   "execution_count": 2,
   "metadata": {},
   "outputs": [
    {
     "name": "stderr",
     "output_type": "stream",
     "text": [
      "/home/h_d_puckeridge/.pyenv/versions/3.10.11/envs/ilab2/lib/python3.10/site-packages/tqdm/auto.py:21: TqdmWarning: IProgress not found. Please update jupyter and ipywidgets. See https://ipywidgets.readthedocs.io/en/stable/user_install.html\n",
      "  from .autonotebook import tqdm as notebook_tqdm\n"
     ]
    }
   ],
   "source": [
    "# import libraries\n",
    "import pandas as pd\n",
    "from bertopic import BERTopic\n",
    "from sentence_transformers import SentenceTransformer\n",
    "from hdbscan import HDBSCAN\n",
    "from bertopic.representation import KeyBERTInspired\n",
    "from sklearn.feature_extraction.text import CountVectorizer\n",
    "import pickle"
   ]
  },
  {
   "cell_type": "markdown",
   "metadata": {},
   "source": [
    "### Prepare input data"
   ]
  },
  {
   "cell_type": "code",
   "execution_count": 31,
   "metadata": {},
   "outputs": [],
   "source": [
    "# load full dataset\n",
    "full_df = pd.read_parquet('../data/processed/patents/patents_data.parquet')\n",
    "full_df['lens_id'] = full_df['lens_id'].astype('string')\n",
    "# load labelled data\n",
    "labelled_df = pd.read_csv('../data/processed/patents/patents_data_filtered.csv')\n",
    "labelled_df['tech'] = labelled_df[['quantum', 'semiconductors', 'cell-based meats', 'hydrogen power', 'personalised medicine']].idxmax(1)\n",
    "labelled_df['tech'] = pd.factorize(labelled_df['tech'])[0] + 1\n",
    "labelled_df['lens_id'] = labelled_df['lens_id'].astype('string')\n",
    "# join labels to full dataset\n",
    "joined_df = full_df.set_index('lens_id').join(labelled_df.set_index('lens_id'), rsuffix='_join', how='left')\n",
    "joined_df['tech'] = joined_df['tech'].fillna(-1)"
   ]
  },
  {
   "cell_type": "code",
   "execution_count": 68,
   "metadata": {},
   "outputs": [],
   "source": [
    "# create doc text and target classes lists \n",
    "docs = joined_df['title'].to_list()\n",
    "target_classes = joined_df['tech'].astype('int').to_list()"
   ]
  },
  {
   "cell_type": "code",
   "execution_count": null,
   "metadata": {},
   "outputs": [],
   "source": [
    "# otherwise load pickle files for input\n",
    "with open('patent_title_docs', 'wb') as f:\n",
    "    pickle.dump(docs, f)\n",
    "with open('patent_title_target_classes', 'wb') as f:\n",
    "    pickle.dump(target_classes, f)"
   ]
  },
  {
   "cell_type": "markdown",
   "metadata": {},
   "source": [
    "### Define topic model"
   ]
  },
  {
   "cell_type": "code",
   "execution_count": 65,
   "metadata": {},
   "outputs": [],
   "source": [
    "# define model components\n",
    "sentence_model = SentenceTransformer(\"all-MiniLM-L6-v2\")\n",
    "hdbscan_model = HDBSCAN(min_cluster_size=150, prediction_data=True)\n",
    "representation_model = KeyBERTInspired()\n",
    "# define topic model\n",
    "topic_model = BERTopic(embedding_model=sentence_model, hdbscan_model=hdbscan_model, representation_model=representation_model,\n",
    "                       top_n_words=10, nr_topics='auto', calculate_probabilities=False)"
   ]
  },
  {
   "cell_type": "code",
   "execution_count": null,
   "metadata": {},
   "outputs": [],
   "source": [
    "# compute embeddings\n",
    "embeddings = sentence_model.encode(docs, show_progress_bar=True)"
   ]
  },
  {
   "cell_type": "code",
   "execution_count": 67,
   "metadata": {},
   "outputs": [],
   "source": [
    "with open('patent_abstract_embeddings', 'wb') as f:\n",
    "    pickle.dump(embeddings, f)"
   ]
  },
  {
   "cell_type": "code",
   "execution_count": 4,
   "metadata": {},
   "outputs": [],
   "source": [
    "with open('patent_title_embeddings', 'rb') as f:\n",
    "    embeddings = pickle.load(f)"
   ]
  },
  {
   "cell_type": "code",
   "execution_count": 5,
   "metadata": {},
   "outputs": [
    {
     "ename": "",
     "evalue": "",
     "output_type": "error",
     "traceback": [
      "\u001b[1;31mThe Kernel crashed while executing code in the the current cell or a previous cell. Please review the code in the cell(s) to identify a possible cause of the failure. Click <a href='https://aka.ms/vscodeJupyterKernelCrash'>here</a> for more info. View Jupyter <a href='command:jupyter.viewOutput'>log</a> for further details."
     ]
    }
   ],
   "source": [
    "# fit and transform model\n",
    "topics, probs = topic_model.fit_transform(docs, embeddings, y=target_classes)"
   ]
  },
  {
   "cell_type": "code",
   "execution_count": null,
   "metadata": {},
   "outputs": [],
   "source": [
    "# represent topics\n",
    "vectorizer_model = CountVectorizer(stop_words=\"english\", ngram_range=(1, 2))\n",
    "topic_model.update_topics(docs, vectorizer_model=vectorizer_model)"
   ]
  }
 ],
 "metadata": {
  "kernelspec": {
   "display_name": "ilab2",
   "language": "python",
   "name": "python3"
  },
  "language_info": {
   "codemirror_mode": {
    "name": "ipython",
    "version": 3
   },
   "file_extension": ".py",
   "mimetype": "text/x-python",
   "name": "python",
   "nbconvert_exporter": "python",
   "pygments_lexer": "ipython3",
   "version": "3.10.11"
  }
 },
 "nbformat": 4,
 "nbformat_minor": 2
}
