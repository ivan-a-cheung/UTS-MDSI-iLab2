{
 "cells": [
  {
   "cell_type": "code",
   "execution_count": 1,
   "metadata": {},
   "outputs": [],
   "source": [
    "## Libraries\n",
    "import glob\n",
    "from pathlib import Path\n",
    "\n",
    "# - to extract gz files\n",
    "import gzip\n",
    "import json\n",
    "\n",
    "# - to convert json to dataframe\n",
    "import pandas as pd"
   ]
  },
  {
   "cell_type": "code",
   "execution_count": 2,
   "metadata": {},
   "outputs": [],
   "source": [
    "patents_data = []\n",
    "patents_classifications = []\n",
    "patents_applicants = []\n",
    "patents_inventors = []"
   ]
  },
  {
   "cell_type": "code",
   "execution_count": 3,
   "metadata": {},
   "outputs": [],
   "source": [
    "file = '../data/raw/patents/patents_2023-08-01_to_2023-08-31_from_0.json'"
   ]
  },
  {
   "cell_type": "code",
   "execution_count": 14,
   "metadata": {},
   "outputs": [],
   "source": [
    "f = open(file)\n"
   ]
  },
  {
   "cell_type": "code",
   "execution_count": 16,
   "metadata": {},
   "outputs": [],
   "source": [
    "data = json.load(f)"
   ]
  },
  {
   "cell_type": "code",
   "execution_count": null,
   "metadata": {},
   "outputs": [],
   "source": [
    "for d in data['data']:\n",
    "    print(d['lens_id'])"
   ]
  },
  {
   "cell_type": "code",
   "execution_count": 29,
   "metadata": {},
   "outputs": [],
   "source": [
    "file_reader = open(file)"
   ]
  },
  {
   "cell_type": "code",
   "execution_count": 32,
   "metadata": {},
   "outputs": [
    {
     "data": {
      "text/plain": [
       "{'lens_id': '001-717-119-197-686',\n",
       " 'date_published': '2023-08-01',\n",
       " 'biblio': {'application_reference': {'doc_number': '202217652574'},\n",
       "  'invention_title': [{'text': 'Method of manufacturing boltless unitary ring gear-flange body'}],\n",
       "  'parties': {'applicants': [{'residence': 'US',\n",
       "     'extracted_name': {'value': 'NPC ROBOTICS CORP'}}],\n",
       "   'inventors': [{'residence': 'US',\n",
       "     'sequence': 1,\n",
       "     'extracted_name': {'value': 'REID RICHARD'}},\n",
       "    {'residence': 'US',\n",
       "     'sequence': 2,\n",
       "     'extracted_name': {'value': 'DAVID JOHN'}},\n",
       "    {'residence': 'US',\n",
       "     'sequence': 3,\n",
       "     'extracted_name': {'value': 'DICKIE PAUL'}}]},\n",
       "  'classifications_cpc': {'classifications': [{'symbol': 'B23P15/14'},\n",
       "    {'symbol': 'B21D22/16'},\n",
       "    {'symbol': 'B21D53/28'},\n",
       "    {'symbol': 'B23K20/12'},\n",
       "    {'symbol': 'B23K2101/008'},\n",
       "    {'symbol': 'F16H55/17'},\n",
       "    {'symbol': 'F16H2055/176'},\n",
       "    {'symbol': 'B21D53/28'},\n",
       "    {'symbol': 'B21D22/14'},\n",
       "    {'symbol': 'B23K2101/008'},\n",
       "    {'symbol': 'B23P15/14'},\n",
       "    {'symbol': 'Y10T29/49462'},\n",
       "    {'symbol': 'C23C30/005'},\n",
       "    {'symbol': 'B23K20/12'}]}},\n",
       " 'abstract': [{'text': 'Apparatus and associated methods relate to a unitary ring gear-flange body (URGFB). In an illustrative example, the flange body may be spin-formed and may, for example, include a riser body extending substantially parallel to a longitudinal axis and a flange extending substantially radially outward from the riser body. To the riser body may, for example, be welded a ring gear to form a unitary assembly, the ring gear having an axis of revolution aligned with the longitudinal axis. A continuous coating may, for example, be applied to at least a selected portion of a surface of the unitary assembly. Various embodiments may advantageously provide a cost-efficient, weight-efficient, and/or time-efficient unitary body which may, for example, be coupled to machinery to provide a shaftless torque-transmitter.'}],\n",
       " 'publication_type': 'GRANTED_PATENT'}"
      ]
     },
     "execution_count": 32,
     "metadata": {},
     "output_type": "execute_result"
    }
   ],
   "source": [
    "f[0]"
   ]
  },
  {
   "cell_type": "code",
   "execution_count": 31,
   "metadata": {},
   "outputs": [
    {
     "ename": "KeyError",
     "evalue": "'jurisdiction'",
     "output_type": "error",
     "traceback": [
      "\u001b[1;31m---------------------------------------------------------------------------\u001b[0m",
      "\u001b[1;31mKeyError\u001b[0m                                  Traceback (most recent call last)",
      "\u001b[1;32md:\\ilab2\\notebooks\\lens_api_parsing_3.ipynb Cell 9\u001b[0m line \u001b[0;36m2\n\u001b[0;32m     <a href='vscode-notebook-cell:/d%3A/ilab2/notebooks/lens_api_parsing_3.ipynb#W6sZmlsZQ%3D%3D?line=24'>25</a>\u001b[0m \u001b[39mif\u001b[39;00m abstract \u001b[39m!=\u001b[39m \u001b[39m'\u001b[39m\u001b[39mna\u001b[39m\u001b[39m'\u001b[39m:\n\u001b[0;32m     <a href='vscode-notebook-cell:/d%3A/ilab2/notebooks/lens_api_parsing_3.ipynb#W6sZmlsZQ%3D%3D?line=25'>26</a>\u001b[0m     abstract \u001b[39m=\u001b[39m abstract[\u001b[39m0\u001b[39m][\u001b[39m'\u001b[39m\u001b[39mtext\u001b[39m\u001b[39m'\u001b[39m]\n\u001b[0;32m     <a href='vscode-notebook-cell:/d%3A/ilab2/notebooks/lens_api_parsing_3.ipynb#W6sZmlsZQ%3D%3D?line=26'>27</a>\u001b[0m data \u001b[39m=\u001b[39m {\n\u001b[0;32m     <a href='vscode-notebook-cell:/d%3A/ilab2/notebooks/lens_api_parsing_3.ipynb#W6sZmlsZQ%3D%3D?line=27'>28</a>\u001b[0m     \u001b[39m'\u001b[39m\u001b[39mlens_id\u001b[39m\u001b[39m'\u001b[39m: patent[\u001b[39m'\u001b[39m\u001b[39mlens_id\u001b[39m\u001b[39m'\u001b[39m],\n\u001b[1;32m---> <a href='vscode-notebook-cell:/d%3A/ilab2/notebooks/lens_api_parsing_3.ipynb#W6sZmlsZQ%3D%3D?line=28'>29</a>\u001b[0m     \u001b[39m'\u001b[39m\u001b[39mjurisdiction\u001b[39m\u001b[39m'\u001b[39m: patent[\u001b[39m'\u001b[39;49m\u001b[39mjurisdiction\u001b[39;49m\u001b[39m'\u001b[39;49m],\n\u001b[0;32m     <a href='vscode-notebook-cell:/d%3A/ilab2/notebooks/lens_api_parsing_3.ipynb#W6sZmlsZQ%3D%3D?line=29'>30</a>\u001b[0m     \u001b[39m'\u001b[39m\u001b[39mpatent_id\u001b[39m\u001b[39m'\u001b[39m: patent[\u001b[39m'\u001b[39m\u001b[39mdoc_key\u001b[39m\u001b[39m'\u001b[39m],\n\u001b[0;32m     <a href='vscode-notebook-cell:/d%3A/ilab2/notebooks/lens_api_parsing_3.ipynb#W6sZmlsZQ%3D%3D?line=30'>31</a>\u001b[0m     \u001b[39m'\u001b[39m\u001b[39mdate_published\u001b[39m\u001b[39m'\u001b[39m: patent[\u001b[39m'\u001b[39m\u001b[39mdate_published\u001b[39m\u001b[39m'\u001b[39m],\n\u001b[0;32m     <a href='vscode-notebook-cell:/d%3A/ilab2/notebooks/lens_api_parsing_3.ipynb#W6sZmlsZQ%3D%3D?line=31'>32</a>\u001b[0m     \u001b[39m'\u001b[39m\u001b[39mtitle\u001b[39m\u001b[39m'\u001b[39m: patent[\u001b[39m'\u001b[39m\u001b[39mbiblio\u001b[39m\u001b[39m'\u001b[39m][\u001b[39m'\u001b[39m\u001b[39minvention_title\u001b[39m\u001b[39m'\u001b[39m][\u001b[39m0\u001b[39m][\u001b[39m'\u001b[39m\u001b[39mtext\u001b[39m\u001b[39m'\u001b[39m],\n\u001b[0;32m     <a href='vscode-notebook-cell:/d%3A/ilab2/notebooks/lens_api_parsing_3.ipynb#W6sZmlsZQ%3D%3D?line=32'>33</a>\u001b[0m     \u001b[39m'\u001b[39m\u001b[39mabstract\u001b[39m\u001b[39m'\u001b[39m: abstract\n\u001b[0;32m     <a href='vscode-notebook-cell:/d%3A/ilab2/notebooks/lens_api_parsing_3.ipynb#W6sZmlsZQ%3D%3D?line=33'>34</a>\u001b[0m }\n\u001b[0;32m     <a href='vscode-notebook-cell:/d%3A/ilab2/notebooks/lens_api_parsing_3.ipynb#W6sZmlsZQ%3D%3D?line=34'>35</a>\u001b[0m patents_data\u001b[39m.\u001b[39mappend(data)\n\u001b[0;32m     <a href='vscode-notebook-cell:/d%3A/ilab2/notebooks/lens_api_parsing_3.ipynb#W6sZmlsZQ%3D%3D?line=36'>37</a>\u001b[0m \u001b[39mfor\u001b[39;00m applicant \u001b[39min\u001b[39;00m patent[\u001b[39m'\u001b[39m\u001b[39mbiblio\u001b[39m\u001b[39m'\u001b[39m][\u001b[39m'\u001b[39m\u001b[39mparties\u001b[39m\u001b[39m'\u001b[39m][\u001b[39m'\u001b[39m\u001b[39mapplicants\u001b[39m\u001b[39m'\u001b[39m]:\n",
      "\u001b[1;31mKeyError\u001b[0m: 'jurisdiction'"
     ]
    }
   ],
   "source": [
    "patents_data = []\n",
    "patents_classifications = []\n",
    "patents_applicants = []\n",
    "patents_inventors = []\n",
    "file_ext = '.json'\n",
    "\n",
    "if (file_ext =='.json'):\n",
    "    file_reader = open(file)\n",
    "    data = json.load(file_reader)\n",
    "    f = data['data']\n",
    "    file_reader.close()\n",
    "\n",
    "\n",
    "for line in f:\n",
    "    patent = ''\n",
    "    if (file_ext =='.gz'):\n",
    "        patent = json.loads(line)\n",
    "    if (file_ext =='.json'):\n",
    "        patent = line\n",
    "\n",
    "    if patent['biblio'].get('invention_title') is None:         ## if invention title is None, then do not capture, skip to next record.\n",
    "        continue                                                \n",
    "\n",
    "    abstract = patent.get('abstract', 'na')\n",
    "    if abstract != 'na':\n",
    "        abstract = abstract[0]['text']\n",
    "    data = {\n",
    "        'lens_id': patent['lens_id'],\n",
    "        'jurisdiction': patent['jurisdiction'],\n",
    "        'patent_id': patent['doc_key'],\n",
    "        'date_published': patent['date_published'],\n",
    "        'title': patent['biblio']['invention_title'][0]['text'],\n",
    "        'abstract': abstract\n",
    "    }\n",
    "    patents_data.append(data)\n",
    "\n",
    "    for applicant in patent['biblio']['parties']['applicants']:\n",
    "        app_data = {\n",
    "            'lens_id': patent['lens_id'],\n",
    "            'patent_id': patent['doc_key'],\n",
    "            'residence': applicant.get('residence', 'NA'),\n",
    "            'name': applicant['extracted_name']['value']\n",
    "        }\n",
    "        patents_applicants.append(app_data)\n",
    "    \n",
    "    if patent['biblio']['parties'].get('inventors') is not None:\n",
    "        for inventor in patent['biblio']['parties']['inventors']:\n",
    "            inv_data = {\n",
    "                'lens_id': patent['lens_id'],\n",
    "                'patent_id': patent['doc_key'],\n",
    "                'residence': inventor.get('residence', 'NA'),\n",
    "                'name': inventor['extracted_name']['value']\n",
    "            }\n",
    "            patents_inventors.append(inv_data)\n",
    "\n",
    "    #print('process classifications')\n",
    "    classifications_cpc = patent['biblio'].get('classifications_cpc')\n",
    "    if classifications_cpc is not None:\n",
    "        for classification in classifications_cpc['classifications']:\n",
    "            #print('process classification')\n",
    "            class_data = {\n",
    "                'lens_id': patent['lens_id'],\n",
    "                'patent_id': patent['doc_key'],\n",
    "                'classification': classification['symbol']\n",
    "            }\n",
    "            patents_classifications.append(class_data)\n",
    "\n",
    "    del(patent)    ## clear variable from memory\n",
    "    del(line)\n",
    "f.close()\n",
    "del(f)"
   ]
  },
  {
   "cell_type": "code",
   "execution_count": 23,
   "metadata": {},
   "outputs": [
    {
     "ename": "NameError",
     "evalue": "name 'f' is not defined",
     "output_type": "error",
     "traceback": [
      "\u001b[1;31m---------------------------------------------------------------------------\u001b[0m",
      "\u001b[1;31mNameError\u001b[0m                                 Traceback (most recent call last)",
      "\u001b[1;32md:\\ilab2\\notebooks\\lens_api_parsing_3.ipynb Cell 8\u001b[0m line \u001b[0;36m2\n\u001b[0;32m      <a href='vscode-notebook-cell:/d%3A/ilab2/notebooks/lens_api_parsing_3.ipynb#X12sZmlsZQ%3D%3D?line=0'>1</a>\u001b[0m test \u001b[39m=\u001b[39m \u001b[39m'\u001b[39m\u001b[39m'\u001b[39m\n\u001b[1;32m----> <a href='vscode-notebook-cell:/d%3A/ilab2/notebooks/lens_api_parsing_3.ipynb#X12sZmlsZQ%3D%3D?line=1'>2</a>\u001b[0m \u001b[39mfor\u001b[39;00m line \u001b[39min\u001b[39;00m f:\n\u001b[0;32m      <a href='vscode-notebook-cell:/d%3A/ilab2/notebooks/lens_api_parsing_3.ipynb#X12sZmlsZQ%3D%3D?line=2'>3</a>\u001b[0m     test \u001b[39m=\u001b[39m line\n",
      "\u001b[1;31mNameError\u001b[0m: name 'f' is not defined"
     ]
    }
   ],
   "source": [
    "test = ''\n",
    "for line in f:\n",
    "    test = line"
   ]
  },
  {
   "cell_type": "code",
   "execution_count": 35,
   "metadata": {},
   "outputs": [],
   "source": [
    "def identify_new_files():\n",
    "    ## read the raw files\n",
    "    path = r'..\\data\\raw\\patents\\*.gz'\n",
    "    files = glob.glob(path)\n",
    "    s1 = pd.Series(files)\n",
    "\n",
    "    ## read the processed log\n",
    "    df = pd.read_csv('../data/meta/process_log/processed_patents.csv')\n",
    "    s2 = df['processed files']\n",
    "\n",
    "    ## compare and return pd Series\n",
    "\n",
    "    s3 = s1[~ s1.isin(s2)]\n",
    "    return s3"
   ]
  },
  {
   "cell_type": "code",
   "execution_count": 36,
   "metadata": {},
   "outputs": [],
   "source": [
    "files = identify_new_files()"
   ]
  },
  {
   "cell_type": "code",
   "execution_count": 38,
   "metadata": {},
   "outputs": [],
   "source": [
    "df = pd.read_csv('../data/meta/process_log/processed_patents.csv')"
   ]
  },
  {
   "cell_type": "code",
   "execution_count": 54,
   "metadata": {},
   "outputs": [],
   "source": [
    "df2 = pd.concat([df['processed files'], files])"
   ]
  },
  {
   "cell_type": "code",
   "execution_count": 63,
   "metadata": {},
   "outputs": [],
   "source": [
    "df3 = pd.DataFrame(pd.concat([df['processed files'], files]), columns=['processed files'])"
   ]
  },
  {
   "cell_type": "code",
   "execution_count": 64,
   "metadata": {},
   "outputs": [
    {
     "data": {
      "text/html": [
       "<div>\n",
       "<style scoped>\n",
       "    .dataframe tbody tr th:only-of-type {\n",
       "        vertical-align: middle;\n",
       "    }\n",
       "\n",
       "    .dataframe tbody tr th {\n",
       "        vertical-align: top;\n",
       "    }\n",
       "\n",
       "    .dataframe thead th {\n",
       "        text-align: right;\n",
       "    }\n",
       "</style>\n",
       "<table border=\"1\" class=\"dataframe\">\n",
       "  <thead>\n",
       "    <tr style=\"text-align: right;\">\n",
       "      <th></th>\n",
       "      <th>processed files</th>\n",
       "    </tr>\n",
       "  </thead>\n",
       "  <tbody>\n",
       "    <tr>\n",
       "      <th>0</th>\n",
       "      <td>..\\data\\raw\\patents\\au-patent-2020-01-01-2020-...</td>\n",
       "    </tr>\n",
       "    <tr>\n",
       "      <th>1</th>\n",
       "      <td>..\\data\\raw\\patents\\au-patent-2021-01-01-2023-...</td>\n",
       "    </tr>\n",
       "    <tr>\n",
       "      <th>2</th>\n",
       "      <td>..\\data\\raw\\patents\\us-patent-2020-01-01-2020-...</td>\n",
       "    </tr>\n",
       "    <tr>\n",
       "      <th>3</th>\n",
       "      <td>..\\data\\raw\\patents\\us-patent-2020-01-28-2020-...</td>\n",
       "    </tr>\n",
       "    <tr>\n",
       "      <th>4</th>\n",
       "      <td>..\\data\\raw\\patents\\us-patent-2020-03-15-2020-...</td>\n",
       "    </tr>\n",
       "    <tr>\n",
       "      <th>5</th>\n",
       "      <td>..\\data\\raw\\patents\\us-patent-2020-05-01-2020-...</td>\n",
       "    </tr>\n",
       "    <tr>\n",
       "      <th>6</th>\n",
       "      <td>..\\data\\raw\\patents\\us-patent-2020-06-23-2020-...</td>\n",
       "    </tr>\n",
       "    <tr>\n",
       "      <th>7</th>\n",
       "      <td>..\\data\\raw\\patents\\us-patent-2020-08-08-2020-...</td>\n",
       "    </tr>\n",
       "    <tr>\n",
       "      <th>8</th>\n",
       "      <td>..\\data\\raw\\patents\\us-patent-2020-09-28-2020-...</td>\n",
       "    </tr>\n",
       "    <tr>\n",
       "      <th>9</th>\n",
       "      <td>..\\data\\raw\\patents\\us-patent-2020-11-15-2020-...</td>\n",
       "    </tr>\n",
       "    <tr>\n",
       "      <th>10</th>\n",
       "      <td>..\\data\\raw\\patents\\us-patent-2021-01-01-2021-...</td>\n",
       "    </tr>\n",
       "    <tr>\n",
       "      <th>11</th>\n",
       "      <td>..\\data\\raw\\patents\\us-patent-2021-03-01-2021-...</td>\n",
       "    </tr>\n",
       "    <tr>\n",
       "      <th>12</th>\n",
       "      <td>..\\data\\raw\\patents\\us-patent-2021-04-15-2021-...</td>\n",
       "    </tr>\n",
       "    <tr>\n",
       "      <th>13</th>\n",
       "      <td>..\\data\\raw\\patents\\us-patent-2021-06-08-2021-...</td>\n",
       "    </tr>\n",
       "    <tr>\n",
       "      <th>14</th>\n",
       "      <td>..\\data\\raw\\patents\\us-patent-2021-07-23-2021-...</td>\n",
       "    </tr>\n",
       "    <tr>\n",
       "      <th>15</th>\n",
       "      <td>..\\data\\raw\\patents\\us-patent-2021-09-08-2021-...</td>\n",
       "    </tr>\n",
       "    <tr>\n",
       "      <th>16</th>\n",
       "      <td>..\\data\\raw\\patents\\us-patent-2021-11-08-2021-...</td>\n",
       "    </tr>\n",
       "    <tr>\n",
       "      <th>17</th>\n",
       "      <td>..\\data\\raw\\patents\\us-patent-2022-01-01-2022-...</td>\n",
       "    </tr>\n",
       "    <tr>\n",
       "      <th>18</th>\n",
       "      <td>..\\data\\raw\\patents\\us-patent-2022-03-01-2022-...</td>\n",
       "    </tr>\n",
       "    <tr>\n",
       "      <th>19</th>\n",
       "      <td>..\\data\\raw\\patents\\us-patent-2022-04-19-2022-...</td>\n",
       "    </tr>\n",
       "    <tr>\n",
       "      <th>20</th>\n",
       "      <td>..\\data\\raw\\patents\\us-patent-2022-06-04-2022-...</td>\n",
       "    </tr>\n",
       "    <tr>\n",
       "      <th>21</th>\n",
       "      <td>..\\data\\raw\\patents\\us-patent-2022-08-01-2022-...</td>\n",
       "    </tr>\n",
       "    <tr>\n",
       "      <th>22</th>\n",
       "      <td>..\\data\\raw\\patents\\us-patent-2022-09-17-2022-...</td>\n",
       "    </tr>\n",
       "    <tr>\n",
       "      <th>23</th>\n",
       "      <td>..\\data\\raw\\patents\\us-patent-2022-11-03-2022-...</td>\n",
       "    </tr>\n",
       "    <tr>\n",
       "      <th>24</th>\n",
       "      <td>..\\data\\raw\\patents\\us-patent-2023-01-01-2023-...</td>\n",
       "    </tr>\n",
       "    <tr>\n",
       "      <th>25</th>\n",
       "      <td>..\\data\\raw\\patents\\us-patent-2023-02-26-2023-...</td>\n",
       "    </tr>\n",
       "    <tr>\n",
       "      <th>26</th>\n",
       "      <td>..\\data\\raw\\patents\\us-patent-2023-05-01-2023-...</td>\n",
       "    </tr>\n",
       "    <tr>\n",
       "      <th>27</th>\n",
       "      <td>..\\data\\raw\\patents\\us-patent-2023-06-26-2023-...</td>\n",
       "    </tr>\n",
       "  </tbody>\n",
       "</table>\n",
       "</div>"
      ],
      "text/plain": [
       "                                      processed files\n",
       "0   ..\\data\\raw\\patents\\au-patent-2020-01-01-2020-...\n",
       "1   ..\\data\\raw\\patents\\au-patent-2021-01-01-2023-...\n",
       "2   ..\\data\\raw\\patents\\us-patent-2020-01-01-2020-...\n",
       "3   ..\\data\\raw\\patents\\us-patent-2020-01-28-2020-...\n",
       "4   ..\\data\\raw\\patents\\us-patent-2020-03-15-2020-...\n",
       "5   ..\\data\\raw\\patents\\us-patent-2020-05-01-2020-...\n",
       "6   ..\\data\\raw\\patents\\us-patent-2020-06-23-2020-...\n",
       "7   ..\\data\\raw\\patents\\us-patent-2020-08-08-2020-...\n",
       "8   ..\\data\\raw\\patents\\us-patent-2020-09-28-2020-...\n",
       "9   ..\\data\\raw\\patents\\us-patent-2020-11-15-2020-...\n",
       "10  ..\\data\\raw\\patents\\us-patent-2021-01-01-2021-...\n",
       "11  ..\\data\\raw\\patents\\us-patent-2021-03-01-2021-...\n",
       "12  ..\\data\\raw\\patents\\us-patent-2021-04-15-2021-...\n",
       "13  ..\\data\\raw\\patents\\us-patent-2021-06-08-2021-...\n",
       "14  ..\\data\\raw\\patents\\us-patent-2021-07-23-2021-...\n",
       "15  ..\\data\\raw\\patents\\us-patent-2021-09-08-2021-...\n",
       "16  ..\\data\\raw\\patents\\us-patent-2021-11-08-2021-...\n",
       "17  ..\\data\\raw\\patents\\us-patent-2022-01-01-2022-...\n",
       "18  ..\\data\\raw\\patents\\us-patent-2022-03-01-2022-...\n",
       "19  ..\\data\\raw\\patents\\us-patent-2022-04-19-2022-...\n",
       "20  ..\\data\\raw\\patents\\us-patent-2022-06-04-2022-...\n",
       "21  ..\\data\\raw\\patents\\us-patent-2022-08-01-2022-...\n",
       "22  ..\\data\\raw\\patents\\us-patent-2022-09-17-2022-...\n",
       "23  ..\\data\\raw\\patents\\us-patent-2022-11-03-2022-...\n",
       "24  ..\\data\\raw\\patents\\us-patent-2023-01-01-2023-...\n",
       "25  ..\\data\\raw\\patents\\us-patent-2023-02-26-2023-...\n",
       "26  ..\\data\\raw\\patents\\us-patent-2023-05-01-2023-...\n",
       "27  ..\\data\\raw\\patents\\us-patent-2023-06-26-2023-..."
      ]
     },
     "execution_count": 64,
     "metadata": {},
     "output_type": "execute_result"
    }
   ],
   "source": [
    "df3"
   ]
  }
 ],
 "metadata": {
  "kernelspec": {
   "display_name": "Python 3",
   "language": "python",
   "name": "python3"
  },
  "language_info": {
   "codemirror_mode": {
    "name": "ipython",
    "version": 3
   },
   "file_extension": ".py",
   "mimetype": "text/x-python",
   "name": "python",
   "nbconvert_exporter": "python",
   "pygments_lexer": "ipython3",
   "version": "3.11.5"
  }
 },
 "nbformat": 4,
 "nbformat_minor": 2
}
