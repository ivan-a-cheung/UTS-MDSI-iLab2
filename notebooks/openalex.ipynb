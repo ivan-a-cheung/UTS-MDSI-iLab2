{
 "cells": [
  {
   "cell_type": "markdown",
   "id": "75eee799",
   "metadata": {},
   "source": [
    "## Retrieve data from OpenAlex"
   ]
  },
  {
   "cell_type": "code",
   "execution_count": null,
   "id": "f78dd6fe",
   "metadata": {},
   "outputs": [],
   "source": [
    "import requests\n",
    "import json\n",
    "\n",
    "# Define API endpoint and query parameters\n",
    "url = 'https://api.openalex.org/v1/data'\n",
    "params = {\n",
    "    'start_date': 'YYYY-MM-DD',\n",
    "    'end_date': 'YYYY-MM-DD',\n",
    "    # Other query parameters\n",
    "}\n",
    "\n",
    "# Make the API request\n",
    "response = requests.get(url, params=params)\n",
    "\n",
    "if response.status_code == 200:\n",
    "    # Parse the JSON response\n",
    "    data = response.json()\n",
    "    \n",
    "    # Save data as JSON\n",
    "    with open('journal_data.json', 'w') as json_file:\n",
    "        json.dump(data, json_file)\n",
    "\n",
    "    print('Data saved as journal_data.json')\n",
    "else:\n",
    "    print('Failed to retrieve data from the API')\n"
   ]
  },
  {
   "cell_type": "code",
   "execution_count": null,
   "id": "15fe9619",
   "metadata": {},
   "outputs": [],
   "source": []
  }
 ],
 "metadata": {
  "kernelspec": {
   "display_name": "Python 3 (ipykernel)",
   "language": "python",
   "name": "python3"
  },
  "language_info": {
   "codemirror_mode": {
    "name": "ipython",
    "version": 3
   },
   "file_extension": ".py",
   "mimetype": "text/x-python",
   "name": "python",
   "nbconvert_exporter": "python",
   "pygments_lexer": "ipython3",
   "version": "3.10.12"
  }
 },
 "nbformat": 4,
 "nbformat_minor": 5
}
