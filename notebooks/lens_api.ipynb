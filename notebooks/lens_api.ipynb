{
 "cells": [
  {
   "cell_type": "markdown",
   "metadata": {},
   "source": [
    "## Lens API"
   ]
  },
  {
   "cell_type": "code",
   "execution_count": 1,
   "metadata": {},
   "outputs": [],
   "source": [
    "import json\n",
    "import requests\n",
    "search_url = 'https://api.lens.org/patent/search'"
   ]
  },
  {
   "cell_type": "code",
   "execution_count": 20,
   "metadata": {},
   "outputs": [
    {
     "name": "stdout",
     "output_type": "stream",
     "text": [
      "400\n"
     ]
    }
   ],
   "source": [
    "start_date = \"2023-01-01\"\n",
    "end_date = \"2023-12-31\"\n",
    "\n",
    "data = '''{\n",
    "    \"query\": {\n",
    "        \"bool\": {\n",
    "            \"must\": [\n",
    "                {\n",
    "                    \"bool\": {\n",
    "                        \"should\": [\n",
    "                            {\n",
    "                                \"term\" : {\n",
    "                                    \"publication_type\": \"GRANTED_PATENT\"\n",
    "                                }\n",
    "                            },\n",
    "                            {\n",
    "                                \"term\" : {\n",
    "                                    \"publication_type\": \"GRANTED_PATENT\"\n",
    "                                }\n",
    "                            }\n",
    "                        ]\n",
    "                    }\n",
    "                },\n",
    "                {\n",
    "                    \"bool\": {\n",
    "                        \"should\": [\n",
    "                            {\n",
    "                                \"term\" : {\n",
    "                                  \"jurisdiction\": \"US\"\n",
    "                                }\n",
    "                            },\n",
    "                            {\n",
    "                                \"term\" : {\n",
    "                                  \"jurisdiction\": \"AU\"\n",
    "                                }\n",
    "                            }\n",
    "                        ]\n",
    "                    }\n",
    "                },\n",
    "                {\n",
    "                    \"range\" : {\n",
    "                        \"date_published\": {\n",
    "                            \"gte\": \"%s\",\n",
    "                            \"lte\": \"%s\"\n",
    "                        }\n",
    "                    }\n",
    "                \n",
    "                }\n",
    "            ]\n",
    "        }\n",
    "    },\n",
    "    \"from\" : 0,\n",
    "    \"size\" : 101,\n",
    "    \"sort\": [{\"date_published\": \"asc\"}],\n",
    "    \"include\": [\"lens_id\",  \n",
    "                \"abstract.text\", \n",
    "                \"date_published\", \n",
    "                \"publication_type\",\n",
    "                \"biblio.invention_title.text\", \n",
    "                \"biblio.classifications_cpc.classifications.symbol\", \n",
    "                \"biblio.parties.inventors.residence\",\n",
    "                \"biblio.parties.applicants.residence\"\n",
    "\n",
    "                ]\n",
    "}''' % (start_date, end_date)\n",
    "\n",
    "### Request query terms: https://docs.api.lens.org/request-patent.html\n",
    "### Response column structure: https://docs.api.lens.org/response-patent.html\n",
    "\n",
    "headers = {'Authorization': 'NpM55FbaJdFk3LsSKeV7qKW4opXOFyjJ94OztTLmVzAms4gx9Uwg', 'Content-Type': 'application/json'}\n",
    "response = requests.post(search_url, data=data, headers=headers)\n",
    "if response.status_code != requests.codes.ok:\n",
    "  print(response.status_code)\n",
    "else:\n",
    "  print(response.text)"
   ]
  },
  {
   "cell_type": "code",
   "execution_count": 21,
   "metadata": {},
   "outputs": [
    {
     "data": {
      "text/plain": [
       "{'reference': 'a1323429-28cf-44cc-8f69-192088bea421',\n",
       " 'message': \"Parameter 'size' shouldn't be greater than 100.\",\n",
       " 'code': 400}"
      ]
     },
     "execution_count": 21,
     "metadata": {},
     "output_type": "execute_result"
    }
   ],
   "source": [
    "response.json()"
   ]
  },
  {
   "cell_type": "code",
   "execution_count": 13,
   "metadata": {},
   "outputs": [],
   "source": [
    "f = open(\"../data/raw/\" + f\"{start_date}_to_{end_date}.json\", \"w\")\n",
    "f.write(response.text)\n",
    "f.close()"
   ]
  }
 ],
 "metadata": {
  "kernelspec": {
   "display_name": "Python 3",
   "language": "python",
   "name": "python3"
  },
  "language_info": {
   "codemirror_mode": {
    "name": "ipython",
    "version": 3
   },
   "file_extension": ".py",
   "mimetype": "text/x-python",
   "name": "python",
   "nbconvert_exporter": "python",
   "pygments_lexer": "ipython3",
   "version": "3.11.5"
  },
  "orig_nbformat": 4
 },
 "nbformat": 4,
 "nbformat_minor": 2
}
