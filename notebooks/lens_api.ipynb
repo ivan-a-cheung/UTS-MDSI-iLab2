{
 "cells": [
  {
   "cell_type": "markdown",
   "metadata": {},
   "source": [
    "## Lens API - Patent"
   ]
  },
  {
   "cell_type": "code",
   "execution_count": 1,
   "metadata": {},
   "outputs": [],
   "source": [
    "import json\n",
    "import requests\n",
    "search_url = 'https://api.lens.org/patent/search'"
   ]
  },
  {
   "cell_type": "code",
   "execution_count": 2,
   "metadata": {},
   "outputs": [],
   "source": [
    "## Get API authorisation code\n",
    "api_auth = open(\"api_auth.json\", \"r\")\n",
    "lens_auth = json.load(api_auth)['lens']\n",
    "\n",
    "api_auth.close()"
   ]
  },
  {
   "cell_type": "code",
   "execution_count": 14,
   "metadata": {},
   "outputs": [],
   "source": [
    "def get_jurisdictions(countries):\n",
    "    query_start = '''\n",
    "                {\n",
    "                    \"bool\": {\n",
    "                        \"should\": [\n",
    "            '''\n",
    "\n",
    "    query_end = '''\n",
    "                        ]\n",
    "                    }\n",
    "                },\n",
    "            '''\n",
    "\n",
    "    ## iterate through list of countries and builk query for each country it\n",
    "    query_builder = []\n",
    "    for c in countries:\n",
    "        juridiction =   '''\n",
    "                        {\n",
    "                            \"term\" : {\n",
    "                                \"jurisdiction\": \"%s\"\n",
    "                            }\n",
    "                        }\n",
    "                        ''' % (c)\n",
    "        \n",
    "        query_builder.append(juridiction)\n",
    "\n",
    "    ##\n",
    "    jurisdictions = (\",\".join(query_builder))\n",
    "    query = query_start + jurisdictions + query_end\n",
    "\n",
    "\n",
    "    return query"
   ]
  },
  {
   "cell_type": "code",
   "execution_count": 18,
   "metadata": {},
   "outputs": [
    {
     "name": "stdout",
     "output_type": "stream",
     "text": [
      "\n",
      "                {\n",
      "                    \"bool\": {\n",
      "                        \"should\": [\n",
      "            \n",
      "                        {\n",
      "                            \"term\" : {\n",
      "                                \"jurisdiction\": \"US\"\n",
      "                            }\n",
      "                        }\n",
      "                        ,\n",
      "                        {\n",
      "                            \"term\" : {\n",
      "                                \"jurisdiction\": \"AU\"\n",
      "                            }\n",
      "                        }\n",
      "                        \n",
      "                        ]\n",
      "                    }\n",
      "                },\n",
      "            \n"
     ]
    }
   ],
   "source": [
    "query = get_jurisdictions(['US','AU'])\n",
    "print(query)"
   ]
  },
  {
   "cell_type": "code",
   "execution_count": 23,
   "metadata": {},
   "outputs": [],
   "source": [
    "def term_builder(term, term_list):\n",
    "    query_start = '''\n",
    "                {\n",
    "                    \"bool\": {\n",
    "                        \"should\": [\n",
    "            '''\n",
    "\n",
    "    query_end = '''\n",
    "                        ]\n",
    "                    }\n",
    "                },\n",
    "            '''\n",
    "\n",
    "    ## iterate through list of countries and builk query for each country it\n",
    "    query_builder = []\n",
    "    for i in term_list:\n",
    "        term_string =   '''\n",
    "                            {\n",
    "                                \"term\" : {\n",
    "                                    \"%s\": \"%s\"\n",
    "                                }\n",
    "                            }\n",
    "                        ''' % (term, i)\n",
    "        \n",
    "        query_builder.append(term_string)\n",
    "\n",
    "    ## join country list into one string and append to query for return\n",
    "    terms = (\",\".join(query_builder))\n",
    "    query = query_start + terms + query_end\n",
    "\n",
    "    return query"
   ]
  },
  {
   "cell_type": "code",
   "execution_count": 24,
   "metadata": {},
   "outputs": [
    {
     "name": "stdout",
     "output_type": "stream",
     "text": [
      "\n",
      "                {\n",
      "                    \"bool\": {\n",
      "                        \"should\": [\n",
      "            \n",
      "                            {\n",
      "                                \"term\" : {\n",
      "                                    \"juridictions\": \"US\"\n",
      "                                }\n",
      "                            }\n",
      "                        ,\n",
      "                            {\n",
      "                                \"term\" : {\n",
      "                                    \"juridictions\": \"AU\"\n",
      "                                }\n",
      "                            }\n",
      "                        \n",
      "                        ]\n",
      "                    }\n",
      "                },\n",
      "            \n"
     ]
    }
   ],
   "source": [
    "query = term_builder('juridictions', ['US','AU'])\n",
    "print(query)"
   ]
  },
  {
   "cell_type": "code",
   "execution_count": null,
   "metadata": {},
   "outputs": [],
   "source": [
    "start_date = \"2023-01-01\"\n",
    "end_date = \"2023-12-31\"\n",
    "start_from = 0\n",
    "size = 100      ### For paid licences change this number to 1,000 - 10,000\n",
    "\n",
    "data = '''{\n",
    "    \"query\": {\n",
    "        \"bool\": {\n",
    "            \"must\": [\n",
    "                {\n",
    "                    \"bool\": {\n",
    "                        \"should\": [\n",
    "                            {\n",
    "                                \"term\" : {\n",
    "                                    \"publication_type\": \"GRANTED_PATENT\"\n",
    "                                }\n",
    "                            },\n",
    "                            {\n",
    "                                \"term\" : {\n",
    "                                    \"publication_type\": \"GRANTED_PATENT\"\n",
    "                                }\n",
    "                            }\n",
    "                        ]\n",
    "                    }\n",
    "                },\n",
    "                {\n",
    "                    \"bool\": {\n",
    "                        \"should\": [\n",
    "                            {\n",
    "                                \"term\" : {\n",
    "                                  \"jurisdiction\": \"US\"\n",
    "                                }\n",
    "                            },\n",
    "                            {\n",
    "                                \"term\" : {\n",
    "                                  \"jurisdiction\": \"AU\"\n",
    "                                }\n",
    "                            }\n",
    "                        ]\n",
    "                    }\n",
    "                },\n",
    "                {\n",
    "                    \"range\" : {\n",
    "                        \"date_published\": {\n",
    "                            \"gte\": \"%s\",\n",
    "                            \"lte\": \"%s\"\n",
    "                        }\n",
    "                    }\n",
    "                \n",
    "                }\n",
    "            ]\n",
    "        }\n",
    "    },\n",
    "    \"sort\": [{\"date_published\": \"asc\"}],\n",
    "    \"include\": [\"lens_id\",  \n",
    "                \"abstract.text\", \n",
    "                \"date_published\", \n",
    "                \"publication_type\",\n",
    "                \"biblio.application_reference.doc_number\",\n",
    "                \"biblio.invention_title.text\", \n",
    "                \"biblio.classifications_cpc.classifications.symbol\", \n",
    "                \"biblio.parties.inventors.residence\",\n",
    "                \"biblio.parties.applicants.residence\"\n",
    "                ],\n",
    "    \"from\" : %d,\n",
    "    \"size\" : %d\n",
    "}''' % (start_date, end_date, start_from, size)\n",
    "\n",
    "### Request query terms: https://docs.api.lens.org/request-patent.html\n",
    "### Response column structure: https://docs.api.lens.org/response-patent.html\n",
    "\n",
    "headers = {'Authorization': lens_auth, 'Content-Type': 'application/json'}\n",
    "response = requests.post(search_url, data=data, headers=headers)\n",
    "if response.status_code != requests.codes.ok:\n",
    "  print(response.status_code)\n",
    "else:\n",
    "  print(response.text)"
   ]
  },
  {
   "cell_type": "code",
   "execution_count": null,
   "metadata": {},
   "outputs": [],
   "source": [
    "response.json()"
   ]
  },
  {
   "cell_type": "code",
   "execution_count": 24,
   "metadata": {},
   "outputs": [],
   "source": [
    "f = open(\"../data/raw/\" + f\"{start_date}_to_{end_date}.json\", \"w\", encoding='utf-8')\n",
    "f.write(response.text)\n",
    "f.close()"
   ]
  },
  {
   "cell_type": "markdown",
   "metadata": {},
   "source": [
    "## Journal"
   ]
  },
  {
   "cell_type": "code",
   "execution_count": 1,
   "metadata": {},
   "outputs": [],
   "source": [
    "import json\n",
    "import requests\n",
    "\n",
    "search_url = 'https://api.lens.org/scholarly/search'\n",
    "auth_json = '../../api_auth.json' \n",
    "q_countries = ['United States', 'Australia']     ## set the countries to retrieve, see https://docs.api.lens.org/request-scholar.html\n",
    "q_type = 'Journal'                               ## set the publication types to retrieve, see https://docs.api.lens.org/response-scholar.html\n",
    "q_date = '2020'\n",
    "q_size = 100                                     ## set the number of journals to return each query. For paid licences change this number to 1,000 - 10,000\n",
    "max_limit = 300                                  ## set the limit on the number of results to query for. This will override the max results if lower.\n"
   ]
  },
  {
   "cell_type": "code",
   "execution_count": 19,
   "metadata": {},
   "outputs": [],
   "source": [
    "# Define the filters for match\n",
    "filters_dict = {\n",
    "    'source.type': q_type,\n",
    "    'source.country':  q_countries,                 \n",
    "    'is_open_access': True,\n",
    "    'has_abstract': True,\n",
    "    'year_published': q_date\n",
    "}\n",
    "\n",
    "def build_query(filters_dict, start_date, end_date):\n",
    "    # Initialize the query conditions list\n",
    "    query_conditions = []\n",
    "\n",
    "    # Iterate through the dictionary and build query conditions\n",
    "    for key, value in filters_dict.items():\n",
    "        if isinstance(value, list):\n",
    "            # For list values (e.g., 'source.country'), use 'terms' query\n",
    "            query_conditions.append({\n",
    "                'terms': {key: value}\n",
    "            })\n",
    "        else:\n",
    "            # For single values (e.g., 'source.type'), use 'match' query\n",
    "            query_conditions.append({\n",
    "                'match': {key: value}\n",
    "            })\n",
    "    \n",
    "    date_range = {\n",
    "        \"range\": {\n",
    "            \"date_published\": {\n",
    "                \"gte\": start_date,\n",
    "                \"lte\": end_date\n",
    "            }\n",
    "        }\n",
    "    }\n",
    "\n",
    "    query_conditions.append(date_range)\n",
    "\n",
    "    # Build the 'must' clause of the query\n",
    "    query_must = {\n",
    "        \"bool\": {\n",
    "            \"must\": query_conditions\n",
    "        }\n",
    "    }\n",
    "\n",
    "    # Build the final query\n",
    "    query = {\n",
    "        \"query\": query_must,\n",
    "        \"sort\": [{\"date_published\": \"asc\"}], # sort with date published\n",
    "        \"size\": q_size  # Number of results per page (adjust as needed)\n",
    "    }\n",
    "    \n",
    "    return query\n"
   ]
  },
  {
   "cell_type": "code",
   "execution_count": 3,
   "metadata": {},
   "outputs": [],
   "source": [
    "                                                  \n",
    "###\n",
    "# Get API authorisation code from file.\n",
    "###\n",
    "def get_auth():\n",
    "    global authkey\n",
    "\n",
    "    api_auth = open(auth_json, \"r\")\n",
    "    authkey = json.load(api_auth)['lens']\n",
    "    api_auth.close()\n",
    "\n",
    "    return authkey\n",
    "\n",
    "\n",
    "def get_response(query, start_from = 0):\n",
    "    size = q_size      \n",
    "\n",
    "    headers = {'Authorization': get_auth(), 'Content-Type': 'application/json'}\n",
    "    response = requests.post(search_url, data=json.dumps(query), headers=headers)\n",
    "\n",
    "    return response"
   ]
  },
  {
   "cell_type": "code",
   "execution_count": 20,
   "metadata": {},
   "outputs": [
    {
     "name": "stdout",
     "output_type": "stream",
     "text": [
      "{'query': {'bool': {'must': [{'match': {'source.type': 'Journal'}}, {'terms': {'source.country': ['United States', 'Australia']}}, {'match': {'is_open_access': True}}, {'match': {'has_abstract': True}}, {'match': {'year_published': '2020'}}, {'range': {'date_published': {'gte': '2023-01-01', 'lte': '2023-12-01'}}}]}}, 'sort': [{'date_published': 'asc'}], 'size': 100}\n",
      "<Response [200]>\n"
     ]
    }
   ],
   "source": [
    "start_date = \"2023-01-01\"\n",
    "end_date = \"2023-12-01\"\n",
    "query = build_query(filters_dict, start_date, end_date)\n",
    "print(query)\n",
    "response = get_response(query)\n",
    "print(response)"
   ]
  },
  {
   "cell_type": "code",
   "execution_count": null,
   "metadata": {},
   "outputs": [],
   "source": [
    "response_json = response.json()\n",
    "filename = \"../data/raw/journals/\" + f\"journals_{pub_year}_from_{start_from}.json\"\n",
    "f = open(filename, \"w\", encoding='utf-8')\n",
    "f.write(response.text)\n",
    "f.close()"
   ]
  },
  {
   "cell_type": "code",
   "execution_count": 17,
   "metadata": {},
   "outputs": [],
   "source": [
    "query = {\n",
    "    \"query\": {\n",
    "        \"bool\": {\n",
    "            \"must\": [\n",
    "                {\"match\": {\"source.type\": \"Journal\"}},\n",
    "                {\"terms\": {\"source.country\": ['United States', 'Australia']}},\n",
    "                {\"match\": {\"is_open_access\": True}},\n",
    "                {\"match\": {\"has_abstract\": True}},\n",
    "                {\n",
    "          \"range\": {\n",
    "            \"date_published\": {\n",
    "              \"gte\": \"2023-01-01\",\n",
    "              \"lte\": \"2023-12-01\"\n",
    "              }\n",
    "            }\n",
    "          }\n",
    "              ]\n",
    "        }  \n",
    "    },\n",
    "    \"size\": 10\n",
    "}"
   ]
  },
  {
   "cell_type": "code",
   "execution_count": null,
   "metadata": {},
   "outputs": [],
   "source": [
    "headers = {\"Authorization\": get_auth(), 'Content-Type': 'application/json'}\n",
    "response = requests.post(search_url, headers=headers, data=json.dumps(query))\n",
    "if response.status_code != requests.codes.ok:\n",
    "    print(response.status_code)\n",
    "else:\n",
    "    print(response.text)"
   ]
  },
  {
   "cell_type": "code",
   "execution_count": null,
   "metadata": {},
   "outputs": [],
   "source": []
  }
 ],
 "metadata": {
  "kernelspec": {
   "display_name": "Python 3 (ipykernel)",
   "language": "python",
   "name": "python3"
  },
  "language_info": {
   "codemirror_mode": {
    "name": "ipython",
    "version": 3
   },
   "file_extension": ".py",
   "mimetype": "text/x-python",
   "name": "python",
   "nbconvert_exporter": "python",
   "pygments_lexer": "ipython3",
   "version": "3.10.12"
  }
 },
 "nbformat": 4,
 "nbformat_minor": 2
}
