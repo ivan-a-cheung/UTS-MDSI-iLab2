{
 "cells": [
  {
   "cell_type": "code",
   "execution_count": 64,
   "metadata": {},
   "outputs": [],
   "source": [
    "def define_tech_terms():\n",
    "    \"Defines a dictionary containing the keyword seach terms for the chosen emerging technologies.\"\n",
    "    return [{'tech': 'quantum', \n",
    "            'keywords': ['quantum']},\n",
    "            {'tech': 'semiconductors', \n",
    "            'keywords': ['semiconductor','semi-conductor','microchip','micro-chip','microprocessor','integrated circuit','memory chip']},\n",
    "            {'tech': 'cell-based meats', \n",
    "            'keywords': ['cell-based meat','cell based meat','cell-grown meat','cell grown meat','cultivated meat','cultured meat','cellular agriculture','lab-produced meat','lab produced meat','lab-grown meat','lab grown meat','synthetic meat','hybrid meat','artificial meat']},\n",
    "            {'tech': 'hydrogen power', \n",
    "            'keywords': ['green hydrogen','clean hydrogen','renewable hydrogen','hydrogen storage','hydrogen transport','hydrogen project','hydrogen production','hydrogen electrolyser', 'hydrogen electrolysis','hydrogen technology','hydrogen tech','hydrogen energy','hydrogen plant','hydrogen station','hydrogen network','hydrogen hub','hydrogen power','hydrogen powered','hydrogen-powered','hydrogen supply','hydrogen market','hydrogen economy','hydrogen infrastructure','hydrogen vehicle','hydrogen fueled']},\n",
    "            {'tech': 'personalised medicine', \n",
    "            'keywords': ['personalised medicine','personalized medicine','personalized treatment','personalised treatment','personalised cancer','individual medicine','individualised medicine','individualized medicine','personalised therapy','personalized therapy','precision medicine','precision health care','precision health-care','theranostic','theragnostic','oncogenomic','onco-genomic']},\n",
    "            ]"
   ]
  },
  {
   "cell_type": "code",
   "execution_count": 110,
   "metadata": {},
   "outputs": [],
   "source": [
    "x = define_tech_terms()"
   ]
  },
  {
   "cell_type": "code",
   "execution_count": 111,
   "metadata": {},
   "outputs": [
    {
     "data": {
      "text/plain": [
       "[{'tech': 'quantum', 'keywords': ['quantum']},\n",
       " {'tech': 'semiconductors',\n",
       "  'keywords': ['semiconductor',\n",
       "   'semi-conductor',\n",
       "   'microchip',\n",
       "   'micro-chip',\n",
       "   'microprocessor',\n",
       "   'integrated circuit',\n",
       "   'memory chip']},\n",
       " {'tech': 'cell-based meats',\n",
       "  'keywords': ['cell-based meat',\n",
       "   'cell based meat',\n",
       "   'cell-grown meat',\n",
       "   'cell grown meat',\n",
       "   'cultivated meat',\n",
       "   'cultured meat',\n",
       "   'cellular agriculture',\n",
       "   'lab-produced meat',\n",
       "   'lab produced meat',\n",
       "   'lab-grown meat',\n",
       "   'lab grown meat',\n",
       "   'synthetic meat',\n",
       "   'hybrid meat',\n",
       "   'artificial meat']},\n",
       " {'tech': 'hydrogen power',\n",
       "  'keywords': ['green hydrogen',\n",
       "   'clean hydrogen',\n",
       "   'renewable hydrogen',\n",
       "   'hydrogen storage',\n",
       "   'hydrogen transport',\n",
       "   'hydrogen project',\n",
       "   'hydrogen production',\n",
       "   'hydrogen electrolyser',\n",
       "   'hydrogen electrolysis',\n",
       "   'hydrogen technology',\n",
       "   'hydrogen tech',\n",
       "   'hydrogen energy',\n",
       "   'hydrogen plant',\n",
       "   'hydrogen station',\n",
       "   'hydrogen network',\n",
       "   'hydrogen hub',\n",
       "   'hydrogen power',\n",
       "   'hydrogen powered',\n",
       "   'hydrogen-powered',\n",
       "   'hydrogen supply',\n",
       "   'hydrogen market',\n",
       "   'hydrogen economy',\n",
       "   'hydrogen infrastructure',\n",
       "   'hydrogen vehicle',\n",
       "   'hydrogen fueled']},\n",
       " {'tech': 'personalised medicine',\n",
       "  'keywords': ['personalised medicine',\n",
       "   'personalized medicine',\n",
       "   'personalized treatment',\n",
       "   'personalised treatment',\n",
       "   'personalised cancer',\n",
       "   'individual medicine',\n",
       "   'individualised medicine',\n",
       "   'individualized medicine',\n",
       "   'personalised therapy',\n",
       "   'personalized therapy',\n",
       "   'precision medicine',\n",
       "   'precision health care',\n",
       "   'precision health-care',\n",
       "   'theranostic',\n",
       "   'theragnostic',\n",
       "   'oncogenomic',\n",
       "   'onco-genomic']}]"
      ]
     },
     "execution_count": 111,
     "metadata": {},
     "output_type": "execute_result"
    }
   ],
   "source": [
    "x"
   ]
  },
  {
   "cell_type": "code",
   "execution_count": 3,
   "metadata": {},
   "outputs": [],
   "source": [
    "import configparser"
   ]
  },
  {
   "cell_type": "code",
   "execution_count": 92,
   "metadata": {},
   "outputs": [
    {
     "data": {
      "text/plain": [
       "['../regex_terms.ini']"
      ]
     },
     "execution_count": 92,
     "metadata": {},
     "output_type": "execute_result"
    }
   ],
   "source": [
    "config = configparser.ConfigParser()\n",
    "\n",
    "config.read('../regex_terms.ini')"
   ]
  },
  {
   "cell_type": "code",
   "execution_count": 81,
   "metadata": {},
   "outputs": [],
   "source": [
    "import json"
   ]
  },
  {
   "cell_type": "code",
   "execution_count": 108,
   "metadata": {},
   "outputs": [],
   "source": [
    "\n",
    "l = []\n",
    "for section in config.sections():\n",
    "    j = {}\n",
    "    j['tech'] = config.get(section, 'tech')\n",
    "    j['keywords'] = config.get(section, 'keywords')\n",
    "    l.append(j)\n"
   ]
  },
  {
   "cell_type": "code",
   "execution_count": 109,
   "metadata": {},
   "outputs": [
    {
     "data": {
      "text/plain": [
       "[{'tech': 'quantum', 'keywords': \"['quantum']\"},\n",
       " {'tech': 'semiconductors',\n",
       "  'keywords': \"['semiconductor','semi-conductor','microchip','micro-chip','microprocessor','integrated circuit','memory chip']\"},\n",
       " {'tech': 'cell-based meats',\n",
       "  'keywords': \"['cell-based meat','cell based meat','cell-grown meat','cell grown meat','cultivated meat','cultured meat','cellular agriculture','lab-produced meat','lab produced meat','lab-grown meat','lab grown meat','synthetic meat','hybrid meat','artificial meat']\"},\n",
       " {'tech': 'hydrogen power',\n",
       "  'keywords': \"['green hydrogen','clean hydrogen','renewable hydrogen','hydrogen storage','hydrogen transport','hydrogen project','hydrogen production','hydrogen electrolyser', 'hydrogen electrolysis','hydrogen technology','hydrogen tech','hydrogen energy','hydrogen plant','hydrogen station','hydrogen network','hydrogen hub','hydrogen power','hydrogen powered','hydrogen-powered','hydrogen supply','hydrogen market','hydrogen economy','hydrogen infrastructure','hydrogen vehicle','hydrogen fueled']\"},\n",
       " {'tech': 'personalised medicine',\n",
       "  'keywords': \"['personalised medicine','personalized medicine','personalized treatment','personalised treatment','personalised cancer','individual medicine','individualised medicine','individualized medicine','personalised therapy','personalized therapy','precision medicine','precision health care','precision health-care','theranostic','theragnostic','oncogenomic','onco-genomic']\"}]"
      ]
     },
     "execution_count": 109,
     "metadata": {},
     "output_type": "execute_result"
    }
   ],
   "source": [
    "l"
   ]
  }
 ],
 "metadata": {
  "kernelspec": {
   "display_name": "Python 3",
   "language": "python",
   "name": "python3"
  },
  "language_info": {
   "codemirror_mode": {
    "name": "ipython",
    "version": 3
   },
   "file_extension": ".py",
   "mimetype": "text/x-python",
   "name": "python",
   "nbconvert_exporter": "python",
   "pygments_lexer": "ipython3",
   "version": "3.11.5"
  }
 },
 "nbformat": 4,
 "nbformat_minor": 2
}
