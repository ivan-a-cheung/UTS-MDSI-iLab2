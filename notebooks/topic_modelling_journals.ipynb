{
 "cells": [
  {
   "cell_type": "markdown",
   "metadata": {},
   "source": [
    "### Initialise"
   ]
  },
  {
   "cell_type": "code",
   "execution_count": 1,
   "metadata": {},
   "outputs": [
    {
     "name": "stderr",
     "output_type": "stream",
     "text": [
      "/home/h_d_puckeridge/.pyenv/versions/3.10.11/envs/ilab2/lib/python3.10/site-packages/tqdm/auto.py:21: TqdmWarning: IProgress not found. Please update jupyter and ipywidgets. See https://ipywidgets.readthedocs.io/en/stable/user_install.html\n",
      "  from .autonotebook import tqdm as notebook_tqdm\n"
     ]
    }
   ],
   "source": [
    "# import libraries\n",
    "import pandas as pd\n",
    "from bertopic import BERTopic\n",
    "from sentence_transformers import SentenceTransformer\n",
    "from hdbscan import HDBSCAN\n",
    "from bertopic.representation import KeyBERTInspired\n",
    "from sklearn.feature_extraction.text import CountVectorizer\n",
    "import pickle"
   ]
  },
  {
   "cell_type": "markdown",
   "metadata": {},
   "source": [
    "### Prepare input data"
   ]
  },
  {
   "cell_type": "code",
   "execution_count": 2,
   "metadata": {},
   "outputs": [],
   "source": [
    "# load full dataset\n",
    "full_df = pd.read_csv('../data/processed/journals/journals.csv')\n",
    "full_df['lens_id'] = full_df['lens_id'].astype('string')\n",
    "# load labelled data\n",
    "labelled_df = pd.read_csv('../data/processed/journals/journals_filtered.csv')\n",
    "labelled_df['tech'] = labelled_df[['quantum', 'semiconductors', 'cell-based meats', 'hydrogen power', 'personalised medicine']].idxmax(1)\n",
    "labelled_df['tech'] = pd.factorize(labelled_df['tech'])[0] + 1\n",
    "labelled_df['lens_id'] = labelled_df['lens_id'].astype('string')\n",
    "# join labels to full dataset\n",
    "joined_df = full_df.set_index('lens_id').join(labelled_df.set_index('lens_id'), rsuffix='_join', how='left')\n",
    "joined_df['tech'] = joined_df['tech'].fillna(-1)"
   ]
  },
  {
   "cell_type": "code",
   "execution_count": 136,
   "metadata": {},
   "outputs": [],
   "source": [
    "# clean abstract text for topic modelling\n",
    "joined_df['abstract_cleaned'] = joined_df['abstract'].str.replace(r'(?<=\\<)(.*?)(?=\\>)|>|<|\\r|\\n', '', regex=True)\n",
    "joined_df['abstract_cleaned'] = joined_df['abstract_cleaned'].str.replace(r'\\s+', ' ', regex=True)"
   ]
  },
  {
   "cell_type": "code",
   "execution_count": 148,
   "metadata": {},
   "outputs": [],
   "source": [
    "# remove empty texts\n",
    "cleaned_df = joined_df.loc[(joined_df.abstract_cleaned!='Null.')&(joined_df.abstract_cleaned!=''),]"
   ]
  },
  {
   "cell_type": "code",
   "execution_count": 149,
   "metadata": {},
   "outputs": [],
   "source": [
    "# create doc text and target classes lists \n",
    "docs = cleaned_df['abstract_cleaned'].astype('str').to_list()\n",
    "target_classes = cleaned_df['tech'].astype('int').to_list()"
   ]
  },
  {
   "cell_type": "code",
   "execution_count": null,
   "metadata": {},
   "outputs": [],
   "source": [
    "# otherwise load pickle files for input\n",
    "with open('journal_abstract_docs', 'wb') as f:\n",
    "    pickle.dump(docs, f)\n",
    "with open('journal_abstract_target_classes', 'wb') as f:\n",
    "    pickle.dump(target_classes, f)"
   ]
  },
  {
   "cell_type": "markdown",
   "metadata": {},
   "source": [
    "### Define topic model"
   ]
  },
  {
   "cell_type": "code",
   "execution_count": 184,
   "metadata": {},
   "outputs": [],
   "source": [
    "# define model components\n",
    "sentence_model = SentenceTransformer(\"all-MiniLM-L6-v2\")\n",
    "hdbscan_model = HDBSCAN(min_cluster_size=50, prediction_data=True)\n",
    "representation_model = KeyBERTInspired()\n",
    "# define topic model\n",
    "topic_model = BERTopic(embedding_model=sentence_model, hdbscan_model=hdbscan_model, representation_model=representation_model,\n",
    "                       top_n_words=10, calculate_probabilities=False)"
   ]
  },
  {
   "cell_type": "markdown",
   "metadata": {},
   "source": [
    "### Embeddings"
   ]
  },
  {
   "cell_type": "code",
   "execution_count": 154,
   "metadata": {},
   "outputs": [
    {
     "name": "stderr",
     "output_type": "stream",
     "text": [
      "Batches: 100%|██████████| 3436/3436 [1:17:21<00:00,  1.35s/it]\n"
     ]
    }
   ],
   "source": [
    "# compute embeddings\n",
    "embeddings = sentence_model.encode(docs, show_progress_bar=True)"
   ]
  },
  {
   "cell_type": "code",
   "execution_count": 155,
   "metadata": {},
   "outputs": [],
   "source": [
    "# store as pickle file\n",
    "with open('journal_abstract_embeddings', 'wb') as f:\n",
    "    pickle.dump(embeddings, f)"
   ]
  },
  {
   "cell_type": "code",
   "execution_count": 4,
   "metadata": {},
   "outputs": [],
   "source": [
    "# load previously stored embeddings\n",
    "with open('journal_abstract_embeddings', 'rb') as f:\n",
    "    embeddings = pickle.load(f)"
   ]
  },
  {
   "cell_type": "markdown",
   "metadata": {},
   "source": [
    "### Fit topic model"
   ]
  },
  {
   "cell_type": "code",
   "execution_count": 185,
   "metadata": {},
   "outputs": [
    {
     "name": "stderr",
     "output_type": "stream",
     "text": [
      "huggingface/tokenizers: The current process just got forked, after parallelism has already been used. Disabling parallelism to avoid deadlocks...\n",
      "To disable this warning, you can either:\n",
      "\t- Avoid using `tokenizers` before the fork if possible\n",
      "\t- Explicitly set the environment variable TOKENIZERS_PARALLELISM=(true | false)\n",
      "huggingface/tokenizers: The current process just got forked, after parallelism has already been used. Disabling parallelism to avoid deadlocks...\n",
      "To disable this warning, you can either:\n",
      "\t- Avoid using `tokenizers` before the fork if possible\n",
      "\t- Explicitly set the environment variable TOKENIZERS_PARALLELISM=(true | false)\n",
      "huggingface/tokenizers: The current process just got forked, after parallelism has already been used. Disabling parallelism to avoid deadlocks...\n",
      "To disable this warning, you can either:\n",
      "\t- Avoid using `tokenizers` before the fork if possible\n",
      "\t- Explicitly set the environment variable TOKENIZERS_PARALLELISM=(true | false)\n",
      "huggingface/tokenizers: The current process just got forked, after parallelism has already been used. Disabling parallelism to avoid deadlocks...\n",
      "To disable this warning, you can either:\n",
      "\t- Avoid using `tokenizers` before the fork if possible\n",
      "\t- Explicitly set the environment variable TOKENIZERS_PARALLELISM=(true | false)\n"
     ]
    }
   ],
   "source": [
    "# fit and transform model\n",
    "topics, probs = topic_model.fit_transform(docs, embeddings, y=target_classes)"
   ]
  },
  {
   "cell_type": "code",
   "execution_count": 186,
   "metadata": {},
   "outputs": [],
   "source": [
    "# represent topics\n",
    "vectorizer_model = CountVectorizer(stop_words=\"english\", ngram_range=(1, 2))\n",
    "topic_model.update_topics(docs, vectorizer_model=vectorizer_model)"
   ]
  },
  {
   "cell_type": "code",
   "execution_count": 160,
   "metadata": {},
   "outputs": [],
   "source": [
    "# save model\n",
    "topic_model.save('journal_abstract_model', serialization='safetensors', save_ctfidf=True, save_embedding_model=sentence_model)"
   ]
  },
  {
   "cell_type": "code",
   "execution_count": 5,
   "metadata": {},
   "outputs": [],
   "source": [
    "# save outputs\n",
    "with open('journal_abstract_topics', 'wb') as f:\n",
    "    pickle.dump(topics, f)\n",
    "with open('journal_abstract_probs', 'wb') as f:\n",
    "    pickle.dump(probs, f)"
   ]
  },
  {
   "cell_type": "markdown",
   "metadata": {},
   "source": [
    "### Produce results"
   ]
  },
  {
   "cell_type": "code",
   "execution_count": 5,
   "metadata": {},
   "outputs": [],
   "source": [
    "# load a saved model\n",
    "topic_model = BERTopic.load('journal_abstract_model')\n",
    "topics = topic_model.topics_\n",
    "with open('journal_abstract_probs', 'rb') as f:\n",
    "    probs = pickle.load(f)"
   ]
  },
  {
   "cell_type": "code",
   "execution_count": 9,
   "metadata": {},
   "outputs": [],
   "source": [
    "# create a topic docs dataframe\n",
    "topic_docs_df = joined_df.copy()\n",
    "topic_docs_df['topic_number'] = topics\n",
    "topic_docs_df['topic_probabilities'] = probs\n",
    "# save as csv\n",
    "topic_docs_df.to_csv('../data/dashboard/journal_abstract_topic_docs.csv')"
   ]
  },
  {
   "cell_type": "code",
   "execution_count": 10,
   "metadata": {},
   "outputs": [
    {
     "data": {
      "text/html": [
       "<div>\n",
       "<style scoped>\n",
       "    .dataframe tbody tr th:only-of-type {\n",
       "        vertical-align: middle;\n",
       "    }\n",
       "\n",
       "    .dataframe tbody tr th {\n",
       "        vertical-align: top;\n",
       "    }\n",
       "\n",
       "    .dataframe thead th {\n",
       "        text-align: right;\n",
       "    }\n",
       "</style>\n",
       "<table border=\"1\" class=\"dataframe\">\n",
       "  <thead>\n",
       "    <tr style=\"text-align: right;\">\n",
       "      <th></th>\n",
       "      <th>Topic</th>\n",
       "      <th>Count</th>\n",
       "      <th>Name</th>\n",
       "      <th>Representation</th>\n",
       "      <th>Representative_Docs</th>\n",
       "      <th>topic_terms</th>\n",
       "      <th>term_probabilities</th>\n",
       "    </tr>\n",
       "  </thead>\n",
       "  <tbody>\n",
       "    <tr>\n",
       "      <th>0</th>\n",
       "      <td>-1</td>\n",
       "      <td>525670</td>\n",
       "      <td>-1_data_memory_methods_semiconductor</td>\n",
       "      <td>[data, memory, methods, semiconductor, method,...</td>\n",
       "      <td>NaN</td>\n",
       "      <td>[data, memory, methods, semiconductor, method,...</td>\n",
       "      <td>[0.0012342221353732418, 0.001184329463540932, ...</td>\n",
       "    </tr>\n",
       "    <tr>\n",
       "      <th>1</th>\n",
       "      <td>0</td>\n",
       "      <td>16971</td>\n",
       "      <td>0_implant_surgical_ultrasound_bone</td>\n",
       "      <td>[implant, surgical, ultrasound, bone, ultrason...</td>\n",
       "      <td>NaN</td>\n",
       "      <td>[implant, surgical, ultrasound, bone, ultrason...</td>\n",
       "      <td>[0.019720560007693996, 0.019325451915862407, 0...</td>\n",
       "    </tr>\n",
       "    <tr>\n",
       "      <th>2</th>\n",
       "      <td>1</td>\n",
       "      <td>13547</td>\n",
       "      <td>1_battery_lithium_secondary battery_electrode</td>\n",
       "      <td>[battery, lithium, secondary battery, electrod...</td>\n",
       "      <td>NaN</td>\n",
       "      <td>[battery, lithium, secondary battery, electrod...</td>\n",
       "      <td>[0.04086501931215215, 0.029120830357143107, 0....</td>\n",
       "    </tr>\n",
       "    <tr>\n",
       "      <th>3</th>\n",
       "      <td>2</td>\n",
       "      <td>9317</td>\n",
       "      <td>2_uplink_downlink_wireless_radio</td>\n",
       "      <td>[uplink, downlink, wireless, radio, communicat...</td>\n",
       "      <td>NaN</td>\n",
       "      <td>[uplink, downlink, wireless, radio, communicat...</td>\n",
       "      <td>[0.01762133110650405, 0.013877049838332479, 0....</td>\n",
       "    </tr>\n",
       "    <tr>\n",
       "      <th>4</th>\n",
       "      <td>3</td>\n",
       "      <td>9273</td>\n",
       "      <td>3_tire_rotor_wheel_pneumatic tire</td>\n",
       "      <td>[tire, rotor, wheel, pneumatic tire, stator, p...</td>\n",
       "      <td>NaN</td>\n",
       "      <td>[tire, rotor, wheel, pneumatic tire, stator, p...</td>\n",
       "      <td>[0.045568553714066214, 0.026842639076329364, 0...</td>\n",
       "    </tr>\n",
       "    <tr>\n",
       "      <th>...</th>\n",
       "      <td>...</td>\n",
       "      <td>...</td>\n",
       "      <td>...</td>\n",
       "      <td>...</td>\n",
       "      <td>...</td>\n",
       "      <td>...</td>\n",
       "      <td>...</td>\n",
       "    </tr>\n",
       "    <tr>\n",
       "      <th>886</th>\n",
       "      <td>885</td>\n",
       "      <td>151</td>\n",
       "      <td>885_tool power_power tool_tool_power</td>\n",
       "      <td>[tool power, power tool, tool, power, connecti...</td>\n",
       "      <td>NaN</td>\n",
       "      <td>[tool power, power tool, tool, power, connecti...</td>\n",
       "      <td>[0.4958888895812067, 0.4464668922085273, 0.145...</td>\n",
       "    </tr>\n",
       "    <tr>\n",
       "      <th>887</th>\n",
       "      <td>886</td>\n",
       "      <td>151</td>\n",
       "      <td>886_soil_method soil_soil properties_measuring...</td>\n",
       "      <td>[soil, method soil, soil properties, measuring...</td>\n",
       "      <td>NaN</td>\n",
       "      <td>[soil, method soil, soil properties, measuring...</td>\n",
       "      <td>[0.2611271884508649, 0.045580477275160965, 0.0...</td>\n",
       "    </tr>\n",
       "    <tr>\n",
       "      <th>888</th>\n",
       "      <td>887</td>\n",
       "      <td>150</td>\n",
       "      <td>887_silicone_silicone composition_curable sili...</td>\n",
       "      <td>[silicone, silicone composition, curable silic...</td>\n",
       "      <td>NaN</td>\n",
       "      <td>[silicone, silicone composition, curable silic...</td>\n",
       "      <td>[0.24614620900071665, 0.1104104833689966, 0.07...</td>\n",
       "    </tr>\n",
       "    <tr>\n",
       "      <th>889</th>\n",
       "      <td>888</td>\n",
       "      <td>150</td>\n",
       "      <td>888_chimeric_chimeric antigen_antigen_antigen ...</td>\n",
       "      <td>[chimeric, chimeric antigen, antigen, antigen ...</td>\n",
       "      <td>NaN</td>\n",
       "      <td>[chimeric, chimeric antigen, antigen, antigen ...</td>\n",
       "      <td>[0.22089086470877603, 0.22038928083446813, 0.1...</td>\n",
       "    </tr>\n",
       "    <tr>\n",
       "      <th>890</th>\n",
       "      <td>889</td>\n",
       "      <td>150</td>\n",
       "      <td>889_portable electronic_device portable_portab...</td>\n",
       "      <td>[portable electronic, device portable, portabl...</td>\n",
       "      <td>NaN</td>\n",
       "      <td>[portable electronic, device portable, portabl...</td>\n",
       "      <td>[0.26518804729432516, 0.21380691283309908, 0.1...</td>\n",
       "    </tr>\n",
       "  </tbody>\n",
       "</table>\n",
       "<p>891 rows × 7 columns</p>\n",
       "</div>"
      ],
      "text/plain": [
       "     Topic   Count                                               Name  \\\n",
       "0       -1  525670               -1_data_memory_methods_semiconductor   \n",
       "1        0   16971                 0_implant_surgical_ultrasound_bone   \n",
       "2        1   13547      1_battery_lithium_secondary battery_electrode   \n",
       "3        2    9317                   2_uplink_downlink_wireless_radio   \n",
       "4        3    9273                  3_tire_rotor_wheel_pneumatic tire   \n",
       "..     ...     ...                                                ...   \n",
       "886    885     151               885_tool power_power tool_tool_power   \n",
       "887    886     151  886_soil_method soil_soil properties_measuring...   \n",
       "888    887     150  887_silicone_silicone composition_curable sili...   \n",
       "889    888     150  888_chimeric_chimeric antigen_antigen_antigen ...   \n",
       "890    889     150  889_portable electronic_device portable_portab...   \n",
       "\n",
       "                                        Representation  Representative_Docs  \\\n",
       "0    [data, memory, methods, semiconductor, method,...                  NaN   \n",
       "1    [implant, surgical, ultrasound, bone, ultrason...                  NaN   \n",
       "2    [battery, lithium, secondary battery, electrod...                  NaN   \n",
       "3    [uplink, downlink, wireless, radio, communicat...                  NaN   \n",
       "4    [tire, rotor, wheel, pneumatic tire, stator, p...                  NaN   \n",
       "..                                                 ...                  ...   \n",
       "886  [tool power, power tool, tool, power, connecti...                  NaN   \n",
       "887  [soil, method soil, soil properties, measuring...                  NaN   \n",
       "888  [silicone, silicone composition, curable silic...                  NaN   \n",
       "889  [chimeric, chimeric antigen, antigen, antigen ...                  NaN   \n",
       "890  [portable electronic, device portable, portabl...                  NaN   \n",
       "\n",
       "                                           topic_terms  \\\n",
       "0    [data, memory, methods, semiconductor, method,...   \n",
       "1    [implant, surgical, ultrasound, bone, ultrason...   \n",
       "2    [battery, lithium, secondary battery, electrod...   \n",
       "3    [uplink, downlink, wireless, radio, communicat...   \n",
       "4    [tire, rotor, wheel, pneumatic tire, stator, p...   \n",
       "..                                                 ...   \n",
       "886  [tool power, power tool, tool, power, connecti...   \n",
       "887  [soil, method soil, soil properties, measuring...   \n",
       "888  [silicone, silicone composition, curable silic...   \n",
       "889  [chimeric, chimeric antigen, antigen, antigen ...   \n",
       "890  [portable electronic, device portable, portabl...   \n",
       "\n",
       "                                    term_probabilities  \n",
       "0    [0.0012342221353732418, 0.001184329463540932, ...  \n",
       "1    [0.019720560007693996, 0.019325451915862407, 0...  \n",
       "2    [0.04086501931215215, 0.029120830357143107, 0....  \n",
       "3    [0.01762133110650405, 0.013877049838332479, 0....  \n",
       "4    [0.045568553714066214, 0.026842639076329364, 0...  \n",
       "..                                                 ...  \n",
       "886  [0.4958888895812067, 0.4464668922085273, 0.145...  \n",
       "887  [0.2611271884508649, 0.045580477275160965, 0.0...  \n",
       "888  [0.24614620900071665, 0.1104104833689966, 0.07...  \n",
       "889  [0.22089086470877603, 0.22038928083446813, 0.1...  \n",
       "890  [0.26518804729432516, 0.21380691283309908, 0.1...  \n",
       "\n",
       "[891 rows x 7 columns]"
      ]
     },
     "execution_count": 10,
     "metadata": {},
     "output_type": "execute_result"
    }
   ],
   "source": [
    "# create a topic names dataframe\n",
    "topic_names_df = topic_model.get_topic_info()\n",
    "top_terms = (topic_model.get_topics().values())\n",
    "topic_names_df['topic_terms'] = [[pair[0] for pair in topic] for topic in top_terms]\n",
    "topic_names_df['term_probabilities'] = [[float(pair[1]) for pair in topic] for topic in top_terms]\n",
    "# save as csv and display\n",
    "topic_names_df.to_csv('../data/dashboard/journal_abstract_topic_names.csv')\n",
    "topic_names_df"
   ]
  },
  {
   "cell_type": "code",
   "execution_count": null,
   "metadata": {},
   "outputs": [],
   "source": [
    "# save a topic chart\n",
    "fig = topic_model.visualize_topics()\n",
    "fig.write_html('journal_abstract_topics.html')\n",
    "fig"
   ]
  },
  {
   "cell_type": "markdown",
   "metadata": {},
   "source": [
    "### Search topics"
   ]
  },
  {
   "cell_type": "code",
   "execution_count": 199,
   "metadata": {},
   "outputs": [
    {
     "name": "stdout",
     "output_type": "stream",
     "text": [
      "199\n"
     ]
    },
    {
     "data": {
      "text/plain": [
       "[('oil', 0.027549664562592505),\n",
       " ('biodiesel', 0.027468339950354106),\n",
       " ('pyrolysis', 0.022325249913568726),\n",
       " ('biomass', 0.021505980482731422),\n",
       " ('lignin', 0.021398605420019326),\n",
       " ('diesel', 0.0166505922154185),\n",
       " ('fuel', 0.014060187616488095),\n",
       " ('bio', 0.011374901601249054),\n",
       " ('bio oil', 0.01074939913906866),\n",
       " ('microwave', 0.010140563259358337)]"
      ]
     },
     "execution_count": 199,
     "metadata": {},
     "output_type": "execute_result"
    }
   ],
   "source": [
    "# search topics by keyword\n",
    "similar_topics, similarity = topic_model.find_topics('hydrogen', top_n=5)\n",
    "num=0\n",
    "print(similar_topics[num])\n",
    "topic_model.get_topic(similar_topics[num])"
   ]
  }
 ],
 "metadata": {
  "kernelspec": {
   "display_name": "ilab2",
   "language": "python",
   "name": "python3"
  },
  "language_info": {
   "codemirror_mode": {
    "name": "ipython",
    "version": 3
   },
   "file_extension": ".py",
   "mimetype": "text/x-python",
   "name": "python",
   "nbconvert_exporter": "python",
   "pygments_lexer": "ipython3",
   "version": "3.10.11"
  }
 },
 "nbformat": 4,
 "nbformat_minor": 2
}
